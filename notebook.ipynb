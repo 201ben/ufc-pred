{
 "cells": [
  {
   "cell_type": "code",
   "execution_count": 1,
   "metadata": {},
   "outputs": [],
   "source": [
    "import time\n",
    "import pandas as pd"
   ]
  },
  {
   "cell_type": "code",
   "execution_count": null,
   "metadata": {},
   "outputs": [],
   "source": [
    "link_df = pd.read_csv(r'C:\\Users\\jihun\\wbatlas\\links.csv', names=[\"links\"])\n",
    "for links in link_df['links']:\n",
    "    print(links)"
   ]
  },
  {
   "cell_type": "markdown",
   "metadata": {},
   "source": [
    "Defining/Populating data[] which contains Win/Loss Stats(SHERDOG)"
   ]
  },
  {
   "cell_type": "code",
   "execution_count": 26,
   "metadata": {},
   "outputs": [],
   "source": [
    "from selenium import webdriver\n",
    "from selenium.webdriver.chrome.options import Options\n",
    "from selenium.webdriver.support.ui import WebDriverWait\n",
    "from selenium.webdriver.support import expected_conditions as EC\n",
    "from selenium.webdriver.common.by import By\n",
    "\n",
    "import time\n",
    "import pandas as pd\n",
    "\n",
    "#Grabbing Data\n",
    "link_df = pd.read_csv(r'C:\\Users\\jihun\\wbatlas\\links.csv', names=[\"links\"])\n",
    "\n",
    "# Set up ChromeOptions for headless mode\n",
    "chrome_options = webdriver.ChromeOptions()\n",
    "prefs = {\"profile.managed_default_content_settings.images\": 2}\n",
    "chrome_options.add_experimental_option(\"prefs\", prefs)\n",
    "chrome_options.add_argument('--headless') \n",
    "#chrome_options.add_argument(\"--no-sandbox\")\n",
    "chrome_options.add_argument('--disable-gpu')\n",
    "\n",
    "data = []\n",
    "driver = webdriver.Chrome(options=chrome_options)\n",
    "wait = WebDriverWait(driver,10)\n",
    "\n",
    "#linked = [\"https://www.sherdog.com/fighter/Cory-Sandhagen-112869\",\"https://www.sherdog.com/fighter/Jessica-Andrade-100715\"]\n",
    "#for link in linked:\n",
    "for link in link_df['links']:\n",
    "    if link == \"Links\":\n",
    "        continue\n",
    "    link_parts = link.split(\"/\")\n",
    "    name = link_parts[-1]\n",
    "    str_link = str(link)\n",
    "    driver.get(str_link)\n",
    "    stats = driver.find_elements(By.XPATH, \"//*[@class='pl']\")\n",
    "    fighter_record = []\n",
    "    fighter_record.append(name)\n",
    "    for i in stats:\n",
    "        fighter_record.append(i.text)\n",
    "    data.append(fighter_record)\n",
    "    \n",
    "driver.close()"
   ]
  },
  {
   "cell_type": "markdown",
   "metadata": {},
   "source": [
    "Forgot to Grab Birthday So Grabing Brithday(SHERDOG)"
   ]
  },
  {
   "cell_type": "code",
   "execution_count": 45,
   "metadata": {},
   "outputs": [],
   "source": [
    "from selenium import webdriver\n",
    "from selenium.webdriver.chrome.options import Options\n",
    "from selenium.webdriver.support.ui import WebDriverWait\n",
    "from selenium.webdriver.support import expected_conditions as EC\n",
    "from selenium.webdriver.common.by import By\n",
    "\n",
    "import time\n",
    "import pandas as pd\n",
    "\n",
    "#Grabbing Data\n",
    "link_df = pd.read_csv(r'C:\\Users\\jihun\\wbatlas\\links_2.csv', names=[\"links\"])\n",
    "\n",
    "# Set up ChromeOptions for headless mode\n",
    "chrome_options = webdriver.ChromeOptions()\n",
    "prefs = {\"profile.managed_default_content_settings.images\": 2}\n",
    "chrome_options.add_experimental_option(\"prefs\", prefs)\n",
    "chrome_options.add_argument('--headless') \n",
    "#chrome_options.add_argument(\"--no-sandbox\")\n",
    "chrome_options.add_argument('--disable-gpu')\n",
    "\n",
    "data = []\n",
    "driver = webdriver.Chrome(options=chrome_options)\n",
    "wait = WebDriverWait(driver,10)\n",
    "\n",
    "#linked = [\"https://www.sherdog.com/fighter/Cory-Sandhagen-112869\",\"https://www.sherdog.com/fighter/Jessica-Andrade-100715\"]\n",
    "#for link in linked:\n",
    "for link in link_df['links']:\n",
    "    if link == \"Links\":\n",
    "        continue\n",
    "    link_parts = link.split(\"/\")\n",
    "    name = link_parts[-1]\n",
    "    str_link = str(link)\n",
    "    driver.get(str_link)\n",
    "    stats = driver.find_elements(By.XPATH, \"//*[@class='bio-holder']/table/tbody/tr[1]/td[2]/span\")\n",
    "    fighter_record = []\n",
    "    fighter_record.append(name)\n",
    "    for i in stats:\n",
    "        fighter_record.append(i.text)\n",
    "    data.append(fighter_record)\n",
    "    \n",
    "driver.close()"
   ]
  },
  {
   "cell_type": "code",
   "execution_count": 42,
   "metadata": {},
   "outputs": [
    {
     "name": "stdout",
     "output_type": "stream",
     "text": [
      "[['Cory-Sandhagen-112869', 'APR 20, 1992'], ['Jessica-Andrade-100715', 'SEP 25, 1991']]\n"
     ]
    }
   ],
   "source": [
    "print(data)"
   ]
  },
  {
   "cell_type": "markdown",
   "metadata": {},
   "source": [
    "Saving df as a csv file"
   ]
  },
  {
   "cell_type": "code",
   "execution_count": 46,
   "metadata": {},
   "outputs": [
    {
     "name": "stdout",
     "output_type": "stream",
     "text": [
      "                          0             1\n",
      "0       Sergio-Pettis-50987  AUG 18, 1993\n",
      "1     Marcos-Mariano-182785  OCT 12, 1986\n",
      "2        Kenny-Florian-8021  MAY 26, 1976\n",
      "3         Todd-Duffee-22903   DEC 6, 1985\n",
      "4         Brad-Katona-66518  DEC 19, 1991\n",
      "...                     ...           ...\n",
      "1464          Ray-Wizard-26           N/A\n",
      "1465      Sean-Daugherty-25   DEC 4, 1975\n",
      "1466      Gerard-Gordeau-15  MAR 30, 1955\n",
      "1467       Art-Jimmerson-20   AUG 4, 1963\n",
      "1468          Teila-Tuli-16  JUN 14, 1969\n",
      "\n",
      "[1469 rows x 2 columns]\n"
     ]
    }
   ],
   "source": [
    "#column_name = [\"name\",\"ko_win\",\"sub_win\", \"dec_win\", \"ko_loss\",\"sub_loss\",\"dec_loss\", \"others_win\",\"others_loss\"]\n",
    "df = pd.DataFrame(data)\n",
    "\n",
    "print(df)\n",
    "df.to_csv(r'C:\\Users\\jihun\\wbatlas\\birthday_data_2.csv')"
   ]
  },
  {
   "cell_type": "markdown",
   "metadata": {},
   "source": [
    "Grabbing Odds: PART 1 GRAB LINKS WITH DATA"
   ]
  },
  {
   "cell_type": "code",
   "execution_count": 81,
   "metadata": {},
   "outputs": [
    {
     "name": "stdout",
     "output_type": "stream",
     "text": [
      "                  0                                                  1\n",
      "0      Aug 6th 2022  https://www.bestfightodds.com/events/ufc-on-es...\n",
      "1     Jun 25th 2022  https://www.bestfightodds.com/events/ufc-on-es...\n",
      "2     Nov 19th 2022  https://www.bestfightodds.com/events/ufc-fight...\n",
      "3     Mar 11th 2023  https://www.bestfightodds.com/events/ufc-fight...\n",
      "4     Apr 29th 2023  https://www.bestfightodds.com/events/ufc-fight...\n",
      "...             ...                                                ...\n",
      "1855  Feb 11th 2023  https://www.bestfightodds.com/events/ufc-284-2688\n",
      "1856  Mar 18th 2023  https://www.bestfightodds.com/events/ufc-286-2746\n",
      "1857  Jun 10th 2023  https://www.bestfightodds.com/events/ufc-289-2830\n",
      "1858  Jul 15th 2023  https://www.bestfightodds.com/events/ufc-fight...\n",
      "1859  Jul 30th 2023      https://www.bestfightodds.com/events/ufc-2922\n",
      "\n",
      "[1860 rows x 2 columns]\n"
     ]
    }
   ],
   "source": [
    "from selenium import webdriver\n",
    "from selenium.webdriver.chrome.options import Options\n",
    "from selenium.webdriver.support.ui import WebDriverWait\n",
    "from selenium.webdriver.support import expected_conditions as EC\n",
    "from selenium.webdriver.common.by import By\n",
    "from datetime import datetime\n",
    "\n",
    "import time\n",
    "import pandas as pd\n",
    "\n",
    "# Set up ChromeOptions for headless mode\n",
    "chrome_options = webdriver.ChromeOptions()\n",
    "prefs = {\"profile.managed_default_content_settings.images\": 2}\n",
    "chrome_options.add_experimental_option(\"prefs\", prefs)\n",
    "chrome_options.add_argument('--headless') \n",
    "#chrome_options.add_argument(\"--no-sandbox\")\n",
    "chrome_options.add_argument('--disable-gpu')\n",
    "\n",
    "wait = WebDriverWait(driver,10)\n",
    "events_link_data = []\n",
    "driver = webdriver.Chrome(options=chrome_options)\n",
    "#driver = webdriver.Chrome()\n",
    "\n",
    "\n",
    "for j in range(1,400):\n",
    "\n",
    "    link = f\"https://www.bestfightodds.com/search?query=ufc&2=page{j}\"\n",
    "    driver.get(link)\n",
    "\n",
    "\n",
    "    dates = driver.find_elements(By.XPATH, \"//*[@class='content-list-date']\")\n",
    "    row = -1 \n",
    "    for i in dates:\n",
    "        row += 1\n",
    "\n",
    "        date = i.text\n",
    "        if \"2022\" in date or \"2023\" in date:\n",
    "            link_element = driver.find_element(By.XPATH, f\"//*[@id='page-content']/table[2]/tbody/tr[{row}]/td[2]/a\")\n",
    "            href = link_element.get_attribute('href')\n",
    "            events_link_data.append([date,href])\n",
    "\n",
    "    \n",
    "\n",
    "\n",
    "df = pd.DataFrame(events_link_data)\n",
    "print(df)\n",
    " \n",
    "        \n"
   ]
  },
  {
   "cell_type": "code",
   "execution_count": 87,
   "metadata": {},
   "outputs": [
    {
     "name": "stdout",
     "output_type": "stream",
     "text": [
      "49\n"
     ]
    }
   ],
   "source": [
    "print(len(df[0].unique()))\n",
    "df.to_csv(r'C:\\Users\\jihun\\wbatlas\\events_data_f.csv')"
   ]
  },
  {
   "cell_type": "code",
   "execution_count": 95,
   "metadata": {},
   "outputs": [
    {
     "ename": "AttributeError",
     "evalue": "type object 'By' has no attribute 'PATH'",
     "output_type": "error",
     "traceback": [
      "\u001b[1;31m---------------------------------------------------------------------------\u001b[0m",
      "\u001b[1;31mAttributeError\u001b[0m                            Traceback (most recent call last)",
      "Cell \u001b[1;32mIn[95], line 8\u001b[0m\n\u001b[0;32m      4\u001b[0m driver\u001b[39m.\u001b[39mget(\u001b[39m\"\u001b[39m\u001b[39mhttps://www.bestfightodds.com/events/ufc-fight-night-holloway-vs-allen-2796\u001b[39m\u001b[39m\"\u001b[39m)\n\u001b[0;32m      5\u001b[0m \u001b[39m#x = wait.until(EC.presence_of_element_located((By.XPATH, \"//*[@class='odds-table']\")))\u001b[39;00m\n\u001b[0;32m      6\u001b[0m \u001b[39m#names = driver.find_elements(By.XPATH, \"//*[@class='t-b-fcc']\")\u001b[39;00m\n\u001b[0;32m      7\u001b[0m \u001b[39m#time.sleep(10)\u001b[39;00m\n\u001b[1;32m----> 8\u001b[0m table_element \u001b[39m=\u001b[39m driver\u001b[39m.\u001b[39mfind_element(By\u001b[39m.\u001b[39;49mPATH,\u001b[39m\"\u001b[39m\u001b[39m//table[@class=\u001b[39m\u001b[39m'\u001b[39m\u001b[39modds-table\u001b[39m\u001b[39m'\u001b[39m\u001b[39m]\u001b[39m\u001b[39m\"\u001b[39m)\n\u001b[0;32m      9\u001b[0m table_html \u001b[39m=\u001b[39m table_element\u001b[39m.\u001b[39mget_attribute(\u001b[39m\"\u001b[39m\u001b[39minnerHTML\u001b[39m\u001b[39m\"\u001b[39m)\n\u001b[0;32m     10\u001b[0m table \u001b[39m=\u001b[39m pd\u001b[39m.\u001b[39mread_html(table_html)\n",
      "\u001b[1;31mAttributeError\u001b[0m: type object 'By' has no attribute 'PATH'"
     ]
    }
   ],
   "source": [
    "odds_data = []\n",
    "#driver = webdriver.Chrome(options=chrome_options)\n",
    "driver = webdriver.Chrome()\n",
    "driver.get(\"https://www.bestfightodds.com/events/ufc-fight-night-holloway-vs-allen-2796\")\n",
    "#x = wait.until(EC.presence_of_element_located((By.XPATH, \"//*[@class='odds-table']\")))\n",
    "#names = driver.find_elements(By.XPATH, \"//*[@class='t-b-fcc']\")\n",
    "#time.sleep(10)\n",
    "df = pd.read_html(st(driver.page_source))\n",
    "\n",
    "\n"
   ]
  }
 ],
 "metadata": {
  "kernelspec": {
   "display_name": "Python 3",
   "language": "python",
   "name": "python3"
  },
  "language_info": {
   "codemirror_mode": {
    "name": "ipython",
    "version": 3
   },
   "file_extension": ".py",
   "mimetype": "text/x-python",
   "name": "python",
   "nbconvert_exporter": "python",
   "pygments_lexer": "ipython3",
   "version": "3.11.4"
  },
  "orig_nbformat": 4
 },
 "nbformat": 4,
 "nbformat_minor": 2
}
