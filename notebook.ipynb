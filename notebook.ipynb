{
 "cells": [
  {
   "cell_type": "code",
   "execution_count": 33,
   "metadata": {},
   "outputs": [
    {
     "name": "stdout",
     "output_type": "stream",
     "text": [
      "                     name ko_win sub_win dec_win ko_loss sub_loss dec_loss\n",
      "0   Cory-Sandhagen-112869      7       3       6       0        1        3\n",
      "1          Rob-Font-76100      9       4       7       0        1        5\n",
      "2  Jessica-Andrade-100715      9       8       7       5        3        3\n",
      "3   Tatiana-Suarez-161107      2       4       3       0        0        0\n"
     ]
    }
   ],
   "source": [
    "from selenium import webdriver\n",
    "from selenium.webdriver.chrome.options import Options\n",
    "from selenium.webdriver.support.ui import WebDriverWait\n",
    "from selenium.webdriver.support import expected_conditions as EC\n",
    "from selenium.webdriver.common.by import By\n",
    "\n",
    "import time\n",
    "import pandas as pd\n",
    "#setting up variables\n",
    "\n",
    "# Set up ChromeOptions for headless mode\n",
    "data = []\n",
    "chrome_options = webdriver.ChromeOptions()\n",
    "prefs = {\"profile.managed_default_content_settings.images\": 2}\n",
    "chrome_options.add_experimental_option(\"prefs\", prefs)\n",
    "chrome_options.add_argument('--headless') \n",
    "#chrome_options.add_argument(\"--no-sandbox\")\n",
    "chrome_options.add_argument('--disable-gpu')\n",
    "\n",
    "driver = webdriver.Chrome(options=chrome_options)\n",
    "wait = WebDriverWait(driver,10)\n",
    "\n",
    "links = [\"https://www.sherdog.com/fighter/Cory-Sandhagen-112869\",\"https://www.sherdog.com/fighter/Rob-Font-76100\",\"https://www.sherdog.com/fighter/Jessica-Andrade-100715\",\"https://www.sherdog.com/fighter/Tatiana-Suarez-161107\"]\n",
    "\n",
    "for link in links:\n",
    "    link_parts = link.split(\"/\")\n",
    "    name = link_parts[-1]\n",
    "\n",
    "    driver.get(link)\n",
    "    stats = driver.find_elements(By.XPATH, \"//*[@class='pl']\")\n",
    "    fighter_record = []\n",
    "    fighter_record.append(name)\n",
    "    for i in stats:\n",
    "        fighter_record.append(i.text)\n",
    "    data.append(fighter_record)\n",
    "    \n",
    "\n",
    "\n",
    "column_name = [\"name\",\"ko_win\",\"sub_win\", \"dec_win\", \"ko_loss\",\"sub_loss\",\"dec_loss\"]\n",
    "df = pd.DataFrame(data, columns=column_name)\n",
    "print(df)\n",
    "#df.to_csv(r'C:\\Users\\jihun\\wbatlas\\wl_data.csv')\n",
    "driver.close()"
   ]
  }
 ],
 "metadata": {
  "kernelspec": {
   "display_name": "Python 3",
   "language": "python",
   "name": "python3"
  },
  "language_info": {
   "codemirror_mode": {
    "name": "ipython",
    "version": 3
   },
   "file_extension": ".py",
   "mimetype": "text/x-python",
   "name": "python",
   "nbconvert_exporter": "python",
   "pygments_lexer": "ipython3",
   "version": "3.11.4"
  },
  "orig_nbformat": 4
 },
 "nbformat": 4,
 "nbformat_minor": 2
}
