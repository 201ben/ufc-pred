{
 "cells": [
  {
   "cell_type": "code",
   "execution_count": null,
   "metadata": {},
   "outputs": [],
   "source": [
    "from selenium import webdriver\n",
    "from selenium.webdriver.chrome.options import Options\n",
    "from selenium.webdriver.support.ui import WebDriverWait\n",
    "from selenium.webdriver.support import expected_conditions as EC\n",
    "from selenium.webdriver.common.by import By\n",
    "\n",
    "import time\n",
    "import pandas as pd\n",
    "#setting up variables\n",
    "wait = WebDriverWait(driver,10)\n",
    "# Set up ChromeOptions for headless mode\n",
    "#chrome_options = Options()\n",
    "#chrome_options.add_argument('--headless')  # Add this line to run in headless mode\n",
    "\n",
    "\n",
    "driver = webdriver.Chrome()\n",
    "#driver.get(\"https://www.sherdog.com/events/UFC-291-Poirier-vs-Gaethje-2-97463\")\n",
    "driver.get(\"https://www.sherdog.com/fighter/Cory-Sandhagen-112869\")\n",
    "#wait until the page loads \n",
    "total_win = wait.until(EC.presence_of_element_located((By.XPATH,\"/html/body/div[4]/div[3]/div[1]/div/section[1]/div/div[1]/div[2]/div[2]/div[2]/div[1]/div[1]/span[2]\")))\n",
    "total_loss = driver.find_element(By.XPATH,\"/html/body/div[5]/div[3]/div[1]/div/section[1]/div/div[1]/div[2]/div[2]/div[2]/div[2]/div[1]/span[2]\")\n",
    "ko_win = driver.find_element(By.XPATH,\"/html/body/div[5]/div[3]/div[1]/div/section[1]/div/div[1]/div[2]/div[2]/div[2]/div[1]/div[3]/div[1]\")\n",
    "sub_win = driver.find_element(By.XPATH,\"/html/body/div[5]/div[3]/div[1]/div/section[1]/div/div[1]/div[2]/div[2]/div[2]/div[1]/div[5]/div[1]\")\n",
    "dec_win = driver.find_element(By.XPATH,\"/html/body/div[5]/div[3]/div[1]/div/section[1]/div/div[1]/div[2]/div[2]/div[2]/div[1]/div[7]/div[1]\")\n",
    "\n",
    "ko_loss = driver.find_element(By.XPATH,\"/html/body/div[5]/div[3]/div[1]/div/section[1]/div/div[1]/div[2]/div[2]/div[2]/div[2]/div[3]/div[1]\")\n",
    "sub_loss = driver.find_element(By.XPATH,\"/html/body/div[5]/div[3]/div[1]/div/section[1]/div/div[1]/div[2]/div[2]/div[2]/div[2]/div[5]/div[1]\")\n",
    "dec_loss = driver.find_element(By.XPATH,\"/html/body/div[5]/div[3]/div[1]/div/section[1]/div/div[1]/div[2]/div[2]/div[2]/div[2]/div[7]/div[1]\")\n",
    "\n",
    "#los = driver.find_element(By.XPATH,\"                        /html/body/div[5]/div[3]/div[1]/div/section[1]/div/div[1]/div[2]/div[2]/div[2]/div[1]/div[1]/span[2]\")\n",
    "\n",
    "\n",
    "print(\"W: \" + total_win.text)\n",
    "print(\"KO_W: \" + ko_win.text)\n",
    "print(\"SUB_W: \" + sub_win.text)\n",
    "print(\"DEC_W: \" + dec_win.text)\n",
    "\n",
    "print(\"L: \" + total_loss.text)\n",
    "print(\"KO_L: \" + ko_loss.text)\n",
    "print(\"SUB_L: \" + sub_loss.text)\n",
    "print(\"DEC_L: \" + dec_loss.text)\n",
    "\n",
    "\n",
    "\n",
    "\n",
    "\n",
    "\n",
    "#/html/body/div[4]/div[3]/div[1]/section[2]/div/table/tbody/tr[2]/td[2]/div/div/a\n",
    "driver.close()\n"
   ]
  }
 ],
 "metadata": {
  "language_info": {
   "name": "python"
  },
  "orig_nbformat": 4
 },
 "nbformat": 4,
 "nbformat_minor": 2
}
